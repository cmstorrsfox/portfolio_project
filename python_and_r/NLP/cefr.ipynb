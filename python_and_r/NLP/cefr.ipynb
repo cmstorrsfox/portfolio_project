{
 "metadata": {
  "language_info": {
   "codemirror_mode": {
    "name": "ipython",
    "version": 3
   },
   "file_extension": ".py",
   "mimetype": "text/x-python",
   "name": "python",
   "nbconvert_exporter": "python",
   "pygments_lexer": "ipython3",
   "version": "3.9.2"
  },
  "orig_nbformat": 2,
  "kernelspec": {
   "name": "python392jvsc74a57bd0672165424b2176c0518825bbf6ac5cf7557130af1791d59fe75c2bd75f102ae8",
   "display_name": "Python 3.9.2 64-bit"
  }
 },
 "nbformat": 4,
 "nbformat_minor": 2,
 "cells": [
  {
   "cell_type": "code",
   "execution_count": 11,
   "metadata": {},
   "outputs": [],
   "source": [
    "import pandas as pd\n"
   ]
  },
  {
   "cell_type": "code",
   "execution_count": 15,
   "metadata": {},
   "outputs": [],
   "source": [
    "def get_cefr():\n",
    "    #gets the English Vocabulary Profile data\n",
    "    evp = pd.read_excel(\"evp_list.xlsx\").reset_index(drop=True)\n",
    "\n",
    "    evp = evp[[\"Base Word\", \"Level\"]]\n",
    "\n",
    "    evp.sort_values(by=[\"Level\"], axis=0, inplace=True, ascending=True)\n",
    "    evp.reset_index(drop=True, inplace=True)\n",
    "\n",
    "    #print(evp.columns)\n",
    "\n",
    "    #wordlists\n",
    "    a1 = evp[evp[\"Level\"] == \"A1\"]\n",
    "    a2 = evp[evp[\"Level\"] == \"A2\"]\n",
    "    b1 = evp[evp[\"Level\"] == \"B1\"]\n",
    "    b2 = evp[evp[\"Level\"] == \"B2\"]\n",
    "    c1 = evp[evp[\"Level\"] == \"C1\"]\n",
    "    c2 = evp[evp[\"Level\"] == \"C2\"]\n",
    "\n",
    "    a1_list = a1[\"Base Word\"].tolist()\n",
    "    a2_list = a2[\"Base Word\"].tolist()\n",
    "    b1_list = b1[\"Base Word\"].tolist()\n",
    "    b2_list = b2[\"Base Word\"].tolist()\n",
    "    c1_list = c1[\"Base Word\"].tolist()\n",
    "    c2_list = c2[\"Base Word\"].tolist()\n",
    "\n",
    "    \n",
    "    df_lists = [a1_list, a2_list, b1_list, b2_list, c1_list, c2_list]\n",
    "    evp_lists = pd.DataFrame(df_lists)\n",
    "    evp_lists = evp_lists.transpose()\n",
    "\n",
    "    evp_lists.columns = [\"a1\", \"a2\", \"b1\", \"b2\", \"c1\", \"c2\"]\n",
    "    #print(evp_lists)\n",
    "\n",
    "    evp_json = evp_lists.to_json('evp_json.json', orient=\"columns\")\n",
    "\n",
    "get_cefr()"
   ]
  },
  {
   "cell_type": "code",
   "execution_count": null,
   "metadata": {},
   "outputs": [],
   "source": []
  }
 ]
}