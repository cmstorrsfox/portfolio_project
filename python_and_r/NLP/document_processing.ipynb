{
 "metadata": {
  "language_info": {
   "codemirror_mode": {
    "name": "ipython",
    "version": 3
   },
   "file_extension": ".py",
   "mimetype": "text/x-python",
   "name": "python",
   "nbconvert_exporter": "python",
   "pygments_lexer": "ipython3",
   "version": "3.7.3-final"
  },
  "orig_nbformat": 2,
  "kernelspec": {
   "name": "python3",
   "display_name": "Python 3.7.3 64-bit",
   "metadata": {
    "interpreter": {
     "hash": "0600588c3b5f4418cbe7b5ebc6825b479f3bc010269d8b60d75058cdd010adfe"
    }
   }
  }
 },
 "nbformat": 4,
 "nbformat_minor": 2,
 "cells": [
  {
   "cell_type": "code",
   "execution_count": 2,
   "metadata": {},
   "outputs": [],
   "source": [
    "import pandas as pd\n",
    "import os \n",
    "from docx import Document\n",
    "from docx.enum.text import WD_COLOR_INDEX, WD_LINE_SPACING\n",
    "from docx.enum.table import WD_TABLE_ALIGNMENT\n",
    "from docx.shared import Pt\n",
    "from tika import parser\n",
    "import re\n",
    "import random"
   ]
  },
  {
   "cell_type": "code",
   "execution_count": 5,
   "metadata": {},
   "outputs": [
    {
     "output_type": "stream",
     "name": "stdout",
     "text": [
      "['be', 'news', 'to', 'sb']\n"
     ]
    }
   ],
   "source": [
    "evp = pd.read_excel(\"evp_list.xlsx\")\n",
    "\n",
    "evp = evp.drop(columns=[\"Column1\", \"Details\"])\n",
    "#print(evp.columns)\n",
    "\n",
    "evp.sort_values(by=\"Level\", axis=0, inplace=True, ascending=True)\n",
    "\n",
    "\n",
    "#wordlist\n",
    "a1 = evp[evp[\"Level\"] == \"A1\"]\n",
    "a2 = evp[evp[\"Level\"] == \"A2\"]\n",
    "b1 = evp[evp[\"Level\"] == \"B1\"]\n",
    "b2 = evp[evp[\"Level\"] == \"B2\"]\n",
    "c1 = evp[evp[\"Level\"] == \"C1\"]\n",
    "c2 = evp[evp[\"Level\"] == \"C2\"]\n",
    "\n",
    "a1_list = a1[\"Base Word\"].tolist()\n",
    "a2_list = a2[\"Base Word\"].tolist()\n",
    "b1_list = b1[\"Base Word\"].tolist()\n",
    "b2_list = b2[\"Base Word\"].tolist()\n",
    "c1_list = c1[\"Base Word\"].tolist()\n",
    "c2_list = c2[\"Base Word\"].tolist()\n",
    "\n",
    "#print(c2_list)\n",
    "\n"
   ]
  },
  {
   "cell_type": "code",
   "execution_count": 4,
   "metadata": {},
   "outputs": [],
   "source": [
    "#get sample text\n",
    "#raw = parser.from_file(r\"C:\\Users\\storr\\Documents\\0_coding\\NLP\\ex2_iy1\\2361128_2361128-My paper.pdf\")\n",
    "#text = raw[\"content\"]\n",
    "#text = text.strip()\n"
   ]
  },
  {
   "cell_type": "code",
   "execution_count": 5,
   "metadata": {},
   "outputs": [],
   "source": [
    "#get all paths into list\n",
    "\n",
    "paths = []\n",
    "\n",
    "d = r\"C:\\Users\\storr\\Documents\\0_coding\\NLP\\ex2_iy1\"\n",
    "for path in os.listdir(d):\n",
    "    full_path = os.path.join(d, path)\n",
    "    if os.path.isfile(full_path):\n",
    "        paths.append(full_path)\n"
   ]
  },
  {
   "cell_type": "code",
   "execution_count": 6,
   "metadata": {},
   "outputs": [
    {
     "output_type": "stream",
     "name": "stderr",
     "text": [
      "2021-03-11 14:55:46,051 [MainThread  ] [WARNI]  Failed to see startup log message; retrying...\n"
     ]
    }
   ],
   "source": [
    "#get text from all docs\n",
    "all_texts = []\n",
    "all_titles = []\n",
    "\n",
    "for path in paths:\n",
    "    raw = parser.from_file(path)\n",
    "    text = raw['content']\n",
    "    title = raw['metadata']['resourceName']\n",
    "    title = title[2:9]\n",
    "    all_texts.append(text)\n",
    "    all_titles.append(title)\n",
    "\n",
    "\n",
    "new_all_texts = []\n",
    "\n",
    "for entry in all_texts:\n",
    "    if entry is None:\n",
    "        pass\n",
    "    else:\n",
    "        re.sub('[^!-~]+', ' ', entry).strip()\n",
    "        entry = entry.strip('\\n')\n",
    "        entry = entry.replace('\\n', ' ')\n",
    "        entry = entry.replace('\\u2003', ' ')\n",
    "        entry = entry.replace(\"[\\']\", \"'\")\n",
    "        new_all_texts.append(entry)\n",
    "\n",
    "full_list = list(zip(all_titles, new_all_texts))\n",
    "\n"
   ]
  },
  {
   "cell_type": "code",
   "execution_count": 7,
   "metadata": {},
   "outputs": [],
   "source": [
    "#text analysis for all docs\n",
    "for title, essay in full_list:\n",
    "    #create document \n",
    "    document = Document()\n",
    "\n",
    "    style = document.styles['Normal']\n",
    "    font = style.font\n",
    "    font.name = 'Arial'\n",
    "    font.size = Pt(12)\n",
    "\n",
    "    word_list = essay.split(\" \")\n",
    "\n",
    "    #word counts\n",
    "    a1_count = 0 \n",
    "    a2_count = 0\n",
    "    b1_count = 0\n",
    "    b2_count = 0\n",
    "    c1_count = 0\n",
    "    c2_count = 0\n",
    "\n",
    "\n",
    "    document.add_heading(\"EX2 Essay with Word Level Highlighting\")\n",
    "    para = document.add_paragraph()\n",
    "    para.paragraph_format.space_before = Pt(12)\n",
    "    para.paragraph_format.space_after = Pt(24)\n",
    "    para.paragraph_format.line_spacing_rule = WD_LINE_SPACING.DOUBLE\n",
    "\n",
    "    for word in word_list:\n",
    "        if word in a1_list:\n",
    "            para.add_run(word+\" \").font.highlight_color = WD_COLOR_INDEX.YELLOW\n",
    "            a1_count +=1\n",
    "        elif word in a2_list:\n",
    "            para.add_run(word+\" \").font.highlight_color = WD_COLOR_INDEX.BRIGHT_GREEN\n",
    "            a2_count +=1\n",
    "        elif word in b1_list:\n",
    "            para.add_run(word+\" \").font.highlight_color = WD_COLOR_INDEX.RED\n",
    "            b1_count +=1\n",
    "        elif word in b2_list:\n",
    "            para.add_run(word+\" \").font.highlight_color = WD_COLOR_INDEX.PINK\n",
    "            b2_count +=1\n",
    "        elif word in c1_list:\n",
    "            para.add_run(word+\" \").font.highlight_color = WD_COLOR_INDEX.VIOLET\n",
    "            c1_count +=1\n",
    "        elif word in c2_list:\n",
    "            para.add_run(word+\" \").font.highlight_color = WD_COLOR_INDEX.TEAL\n",
    "            c2_count +=1\n",
    "        else:\n",
    "            para.add_run(word+\" \")\n",
    "\n",
    "    #word percentage\n",
    "    a1_per = str(round((a1_count / len(word_list)*100), 1))+\"%\"\n",
    "    a2_per = str(round((a2_count / len(word_list)*100), 1))+\"%\"\n",
    "    b1_per = str(round((b1_count / len(word_list)*100), 1))+\"%\"\n",
    "    b2_per = str(round((b2_count / len(word_list)*100), 1))+\"%\"\n",
    "    c1_per = str(round((c1_count / len(word_list)*100), 1))+\"%\"\n",
    "    c2_per = str(round((c2_count / len(word_list)*100), 1))+\"%\"\n",
    "\n",
    "\n",
    "    table = document.add_table(rows=7, cols=4)\n",
    "    hdr_cells = table.rows[0].cells\n",
    "    hdr_cells[0].text = \"Word Level\"\n",
    "    hdr_cells[1].text = \"Color\"\n",
    "    hdr_cells[2].text = \"Count\"\n",
    "    hdr_cells[3].text = \"Percentage of text\"\n",
    "    row_1 = table.rows[1].cells\n",
    "    row_1[0].text = \"A1\"\n",
    "    row_1[1].text = \"Yellow\"\n",
    "    row_1[2].text = str(a1_count)\n",
    "    row_1[3].text = a1_per\n",
    "    row_2 = table.rows[2].cells\n",
    "    row_2[0].text = \"A2\"\n",
    "    row_2[1].text = \"Bright Green\"\n",
    "    row_2[2].text = str(a2_count)\n",
    "    row_2[3].text = a2_per\n",
    "    row_3 = table.rows[3].cells\n",
    "    row_3[0].text = \"B1\"\n",
    "    row_3[1].text = \"Red\"\n",
    "    row_3[2].text = str(b1_count)\n",
    "    row_3[3].text = b1_per\n",
    "    row_4 = table.rows[4].cells\n",
    "    row_4[0].text = \"B2\"\n",
    "    row_4[1].text = \"Pink\"\n",
    "    row_4[2].text = str(b2_count)\n",
    "    row_4[3].text = b2_per\n",
    "    row_5 = table.rows[5].cells\n",
    "    row_5[0].text = \"C1\"\n",
    "    row_5[1].text = \"Violet\"\n",
    "    row_5[2].text = str(c1_count)\n",
    "    row_5[3].text = c1_per\n",
    "    row_6 = table.rows[6].cells\n",
    "    row_6[0].text = \"C2\"\n",
    "    row_6[1].text = \"Teal\"\n",
    "    row_6[2].text = str(c2_count)\n",
    "    row_6[3].text = c2_per\n",
    "\n",
    "    table.style = \"Light Grid Accent 4\"\n",
    "    table.alignment = WD_TABLE_ALIGNMENT.CENTER\n",
    "\n",
    "    document.save(title+\".docx\")"
   ]
  },
  {
   "cell_type": "code",
   "execution_count": null,
   "metadata": {},
   "outputs": [],
   "source": []
  }
 ]
}