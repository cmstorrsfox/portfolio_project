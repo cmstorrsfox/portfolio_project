{
 "metadata": {
  "language_info": {
   "codemirror_mode": {
    "name": "ipython",
    "version": 3
   },
   "file_extension": ".py",
   "mimetype": "text/x-python",
   "name": "python",
   "nbconvert_exporter": "python",
   "pygments_lexer": "ipython3",
   "version": "3.7.3-final"
  },
  "orig_nbformat": 2,
  "kernelspec": {
   "name": "python3",
   "display_name": "Python 3.7.3 64-bit",
   "metadata": {
    "interpreter": {
     "hash": "0600588c3b5f4418cbe7b5ebc6825b479f3bc010269d8b60d75058cdd010adfe"
    }
   }
  }
 },
 "nbformat": 4,
 "nbformat_minor": 2,
 "cells": [
  {
   "cell_type": "code",
   "execution_count": 116,
   "metadata": {},
   "outputs": [],
   "source": [
    "from bs4 import BeautifulSoup\n",
    "import requests\n",
    "import pandas as pd\n"
   ]
  },
  {
   "cell_type": "code",
   "execution_count": 117,
   "metadata": {},
   "outputs": [],
   "source": [
    "#get page\n",
    "url = \"https://www.englishprofile.org/wordlists/evp\"\n",
    "\n",
    "html_content = requests.get(url).text\n"
   ]
  },
  {
   "cell_type": "code",
   "execution_count": 118,
   "metadata": {},
   "outputs": [],
   "source": [
    "#get entries with pandas\n",
    "\n",
    "df_list = []\n",
    "\n",
    "for i in range(20, 15680, 20):\n",
    "    url = \"https://www.englishprofile.org/wordlists/evp?start=\"+str(i)\n",
    "    df = pd.read_html(url)\n",
    "    df = df[0]\n",
    "    df_list.append(df)\n",
    "\n",
    "\n",
    "\n",
    "\n"
   ]
  },
  {
   "cell_type": "code",
   "execution_count": 119,
   "metadata": {},
   "outputs": [],
   "source": [
    "first_page = pd.read_html(\"https://www.englishprofile.org/wordlists/evp?limitstart=0\")\n",
    "\n",
    "first_page = first_page[0]\n",
    "df_list.append(first_page)\n",
    "\n"
   ]
  },
  {
   "cell_type": "code",
   "execution_count": 120,
   "metadata": {},
   "outputs": [
    {
     "output_type": "stream",
     "name": "stdout",
     "text": [
      "   Base Word               Guideword Level  Part of Speech          Topic  \\\n0         if                  ALWAYS    B1             NaN            NaN   \n1         if                   MIGHT    B1             NaN            NaN   \n2         if                 WHETHER    B1             NaN            NaN   \n3         if  WOULD/MIGHT/COULD HAVE    B2             NaN            NaN   \n4    however                     NaN    C2             NaN            NaN   \n5    million                  NUMBER    A2             NaN            NaN   \n6       like                     NaN    B1             NaN            NaN   \n7         or           POSSIBILITIES    A1             NaN  communication   \n8         or              NOT EITHER    A2             NaN  communication   \n9         or                 WARNING    B1             NaN  communication   \n10        or                  CHANGE    B2             NaN  communication   \n11      only                     NaN    C2             NaN  communication   \n12      nine                     NaN    A1             NaN            NaN   \n13  nineteen                     NaN    A1             NaN            NaN   \n14       one                     NaN    A1             NaN            NaN   \n15    ninety                  NUMBER    A2             NaN            NaN   \n16     ninth                     NaN    A2             NaN            NaN   \n17       now                     NaN    B2             NaN            NaN   \n18      once                     NaN    B2             NaN            NaN   \n19        or                  REASON    C1             NaN            NaN   \n\n    Details  \n0   Details  \n1   Details  \n2   Details  \n3   Details  \n4   Details  \n5   Details  \n6   Details  \n7   Details  \n8   Details  \n9   Details  \n10  Details  \n11  Details  \n12  Details  \n13  Details  \n14  Details  \n15  Details  \n16  Details  \n17  Details  \n18  Details  \n19  Details  \n"
     ]
    }
   ],
   "source": [
    "#export to csv\n",
    "\n",
    "for df in df_list:\n",
    "    df.reset_index(drop=True)\n",
    "\n",
    "concat_df = pd.concat(df_list)\n",
    "\n",
    "concat_df.to_excel(\"evp_list.xlsx\")\n"
   ]
  }
 ]
}