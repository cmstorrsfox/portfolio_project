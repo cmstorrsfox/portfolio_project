{
 "metadata": {
  "language_info": {
   "codemirror_mode": {
    "name": "ipython",
    "version": 3
   },
   "file_extension": ".py",
   "mimetype": "text/x-python",
   "name": "python",
   "nbconvert_exporter": "python",
   "pygments_lexer": "ipython3",
   "version": "3.7.3-final"
  },
  "orig_nbformat": 2,
  "kernelspec": {
   "name": "python3",
   "display_name": "Python 3.7.3 64-bit",
   "metadata": {
    "interpreter": {
     "hash": "0600588c3b5f4418cbe7b5ebc6825b479f3bc010269d8b60d75058cdd010adfe"
    }
   }
  }
 },
 "nbformat": 4,
 "nbformat_minor": 2,
 "cells": [
  {
   "cell_type": "code",
   "execution_count": 7,
   "metadata": {},
   "outputs": [],
   "source": [
    "import os \n",
    "from docx import Document\n",
    "from docx.enum.text import WD_COLOR_INDEX, WD_LINE_SPACING\n",
    "from docx.shared import Pt\n",
    "from tika import parser\n",
    "import re\n",
    "import language_tool_python\n",
    "\n",
    "tool = language_tool_python.LanguageTool('en-GB')"
   ]
  },
  {
   "cell_type": "code",
   "execution_count": 8,
   "metadata": {},
   "outputs": [],
   "source": [
    "#get all paths into list\n",
    "\n",
    "paths = []\n",
    "\n",
    "d = r\"C:\\Users\\storr\\Documents\\0_coding\\NLP\\ex3_jan_ify\"\n",
    "for path in os.listdir(d):\n",
    "    full_path = os.path.join(d, path)\n",
    "    if os.path.isfile(full_path):\n",
    "        paths.append(full_path)\n"
   ]
  },
  {
   "cell_type": "code",
   "execution_count": 9,
   "metadata": {},
   "outputs": [],
   "source": [
    "#get text from all docs\n",
    "all_texts = []\n",
    "all_titles = []\n",
    "\n",
    "for path in paths:\n",
    "    raw = parser.from_file(path)\n",
    "    text = raw['content']\n",
    "    title = raw['metadata']['resourceName']\n",
    "    title = title[2:9]\n",
    "    all_texts.append(text)\n",
    "    all_titles.append(title)\n",
    "\n",
    "\n",
    "new_all_texts = []\n",
    "\n",
    "for entry in all_texts:\n",
    "    if entry is None:\n",
    "        pass\n",
    "    else:\n",
    "        re.sub('[^!-~]+', ' ', entry).strip()\n",
    "        entry = entry.strip('\\n')\n",
    "        entry = entry.replace('\\n', ' ')\n",
    "        entry = entry.replace('\\u2003', ' ')\n",
    "        entry = entry.replace(\"[\\']\", \"'\")\n",
    "        new_all_texts.append(entry)\n",
    "\n",
    "full_list = list(zip(all_titles, new_all_texts))"
   ]
  },
  {
   "cell_type": "code",
   "execution_count": 10,
   "metadata": {},
   "outputs": [],
   "source": [
    "#cycle through all texts and find errors\n",
    "error_list = []\n",
    "message_list = []\n",
    "replacement_list = []\n",
    "categories_list = []\n",
    "\n",
    "for title, essay in full_list:\n",
    "\n",
    "    matches = tool.check(essay)\n",
    "    \n",
    "    essay_errors = []\n",
    "    essay_messages = []\n",
    "    essay_replacements = []\n",
    "    essay_categories = []\n",
    "    for match in matches:\n",
    "        error_type = match.category\n",
    "        error = essay[match.offset:match.offset+match.errorLength]\n",
    "        message = match.message\n",
    "        replacement = match.replacements\n",
    "\n",
    "        essay_errors.append(error)\n",
    "        essay_messages.append(message)\n",
    "        essay_replacements.append(replacement)\n",
    "        essay_categories.append(error_type)\n",
    "\n",
    "    \n",
    "\n",
    "    error_list.append(essay_errors)\n",
    "    message_list.append(essay_messages)\n",
    "    replacement_list.append(essay_replacements)\n",
    "    categories_list.append(essay_categories)    \n",
    "\n",
    "\n",
    "\n",
    "\n"
   ]
  },
  {
   "cell_type": "code",
   "execution_count": 11,
   "metadata": {},
   "outputs": [],
   "source": [
    "#add title and essay to error_data\n",
    "all_data = list(zip(all_titles, new_all_texts, error_list, message_list, replacement_list, categories_list))\n"
   ]
  },
  {
   "cell_type": "code",
   "execution_count": 12,
   "metadata": {},
   "outputs": [],
   "source": [
    "#get data and add to document\n",
    "\n",
    "for entry in all_data:\n",
    "    title = entry[0]\n",
    "    essay = entry[1]\n",
    "    errors = entry[2]\n",
    "    messages = entry[3]\n",
    "    replacements = entry[4]\n",
    "    categories = entry[5]\n",
    "\n",
    "\n",
    "    document = Document()\n",
    "    document.add_heading(\"EX3A Mock Exam\")\n",
    "    style = document.styles['Normal']\n",
    "    font = style.font\n",
    "    font.name = 'Arial'\n",
    "    font.size = Pt(12)\n",
    "    paragraph = document.add_paragraph()\n",
    "    paragraph.paragraph_format.line_spacing_rule = WD_LINE_SPACING.DOUBLE\n",
    "\n",
    "    word_list = essay.split(\" \")\n",
    "\n",
    "    for word in word_list:\n",
    "        if word in errors:\n",
    "            error_index = errors.index(word)\n",
    "            run = paragraph.add_run(word+\" \")\n",
    "            run.font.highlight_color = WD_COLOR_INDEX.YELLOW\n",
    "            run.font.bold = True\n",
    "            run.add_comment(\"{messages}\\n\\nHere are some possible alternatives:\\n{replacements}\".format(messages=messages[error_index], replacements=[entry for entry in replacements[error_index][0:2]]), author=\"Chris SF\")\n",
    "        else:\n",
    "            paragraph.add_run(word+\" \")\n",
    "        \n",
    "\n",
    "        document.save(title+\".docx\")\n",
    "\n",
    "            \n",
    "\n",
    "        "
   ]
  },
  {
   "cell_type": "code",
   "execution_count": null,
   "metadata": {},
   "outputs": [],
   "source": []
  }
 ]
}