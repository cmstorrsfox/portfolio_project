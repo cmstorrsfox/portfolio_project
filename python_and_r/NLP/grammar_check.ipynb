{
 "metadata": {
  "language_info": {
   "codemirror_mode": {
    "name": "ipython",
    "version": 3
   },
   "file_extension": ".py",
   "mimetype": "text/x-python",
   "name": "python",
   "nbconvert_exporter": "python",
   "pygments_lexer": "ipython3",
   "version": "3.7.3-final"
  },
  "orig_nbformat": 2,
  "kernelspec": {
   "name": "python3",
   "display_name": "Python 3.7.3 64-bit",
   "metadata": {
    "interpreter": {
     "hash": "0600588c3b5f4418cbe7b5ebc6825b479f3bc010269d8b60d75058cdd010adfe"
    }
   }
  }
 },
 "nbformat": 4,
 "nbformat_minor": 2,
 "cells": [
  {
   "cell_type": "code",
   "execution_count": 21,
   "metadata": {},
   "outputs": [],
   "source": [
    "import language_tool_python\n",
    "import pandas as pd\n",
    "from tika import parser\n",
    "import os\n",
    "import re\n",
    "import matplotlib.pyplot as plt\n",
    "import seaborn as sns\n",
    "\n",
    "\n",
    "\n",
    "tool = language_tool_python.LanguageTool('en-GB')"
   ]
  },
  {
   "cell_type": "code",
   "execution_count": null,
   "metadata": {},
   "outputs": [],
   "source": [
    "#get all paths into list\n",
    "\n",
    "paths = []\n",
    "\n",
    "d = r\"C:\\Users\\storr\\Documents\\0_coding\\NLP\\ex2_iy1\"\n",
    "for path in os.listdir(d):\n",
    "    full_path = os.path.join(d, path)\n",
    "    if os.path.isfile(full_path):\n",
    "        paths.append(full_path)\n",
    "\n",
    "\n"
   ]
  },
  {
   "cell_type": "code",
   "execution_count": null,
   "metadata": {},
   "outputs": [],
   "source": [
    "#get text from all docs\n",
    "all_texts = []\n",
    "\n",
    "for path in paths:\n",
    "    raw = parser.from_file(path)\n",
    "    text = raw['content']\n",
    "    all_texts.append(text)\n",
    "\n",
    "new_all_texts = []\n",
    "\n",
    "for entry in all_texts:\n",
    "    if entry is None:\n",
    "        pass\n",
    "    else:\n",
    "        re.sub('[^!-~]+', ' ', entry).strip()\n",
    "        entry = entry.strip('\\n')\n",
    "        entry = entry.replace('\\n', ' ')\n",
    "        entry = entry.replace('\\u2003', ' ')\n",
    "        entry = entry.replace(\"[\\']\", \"'\")\n",
    "        new_all_texts.append(entry)\n",
    "\n",
    "text_strings = \" \".join(new_all_texts)\n",
    "\n",
    "#print(text_strings)\n",
    "\n"
   ]
  },
  {
   "cell_type": "code",
   "execution_count": null,
   "metadata": {},
   "outputs": [],
   "source": [
    "matches = tool.check(text_strings)\n",
    "\n",
    "print(matches[1])\n",
    "\n"
   ]
  },
  {
   "cell_type": "code",
   "execution_count": 49,
   "metadata": {},
   "outputs": [],
   "source": [
    "matches = tool.check(text_strings)\n",
    "all_errors = []\n",
    "data_for_df = []\n",
    "\n",
    "for entry in matches:\n",
    "    new_entry = {\"error\": text_strings[entry.offset:entry.offset+entry.errorLength], \"sentence\": entry.context, \"error_type\": entry.category, \"rule_ID\": entry.ruleId, \"message\": entry.message, \"replacement\": entry.replacements}\n",
    "    data_for_df.append(new_entry)\n",
    "\n",
    "\n",
    "\n",
    "#for entry in matches:\n",
    "#    new_entry = {entry.category: {\"ruleId\": entry.ruleId, \"message\": entry.message, \"replacement\": entry.replacements, \"context\": entry.context}}\n",
    "#    all_errors.append(new_entry)\n",
    "\n",
    "\n",
    "#error_dict = {}\n",
    "\n",
    "#for entry in all_errors:\n",
    "#    for key, value in entry.items():\n",
    "#        if key in error_dict.keys():\n",
    "#            error_dict.get(key).append(value)\n",
    "#        else:\n",
    "#            error_dict.update({key: [value]})\n",
    "\n",
    "\n",
    "\n",
    "\n",
    "    \n",
    "\n"
   ]
  },
  {
   "cell_type": "code",
   "execution_count": 72,
   "metadata": {},
   "outputs": [
    {
     "output_type": "stream",
     "name": "stdout",
     "text": [
      "Index(['error', 'sentence', 'error_type', 'rule_ID', 'message', 'replacement'], dtype='object')\n     index                    error  \\\n95     516    a social inequalities   \n97     512            an activities   \n108    504                a parents   \n121   1136      a more used methods   \n122    325  a more convenient tools   \n124    313      a positive managers   \n126    299    a different attitudes   \n145    393             a long hours   \n152   1208               a children   \n179    963                  a years   \n190    976                  a years   \n200    922             a newspapers   \n218   1228                 a trends   \n\n                                                                                                          sentence  \\\n95     ...ing problems that lead the problem into a social inequalities, this particular problem affect their c...   \n97             ...ion in order for their children to have an activities after school which it determines that a...   \n108                ...ould broadly explain the impacts on how a parents treat their children differently that c...   \n121      ...ing their working hours. It is becoming a more used methods in companies during economic crisis. Su...   \n122  ...ult they feel,mangers only take them as a more convenient tools to complete tasks.Therefore , the mobil...   \n124      ...damage for the workers if you don't get a positive managers.                       Nonetheless，a hu...   \n126    ...ich was exposed that  many mangers take a different attitudes to two type of wokers. The normall work...   \n145             ...imit their schedule,they would work for a long hours more than just work in their workplace,...   \n152               ...me may agree that more ability can help a children enter a good u There is a change in the...   \n179                  ...t (2015, cited in The Economist, 2016), a years worth of data collected by Plume Labs, ...   \n190                  ... issue.   The Economist (2015) analysed a years worth of data starting from 2015 and ha...   \n200             ... late 19th century, which is there have a newspapers first started publishing personal infor...   \n218                 ... working be more popular and may become a trends in the future, Reissner (2017) states t...   \n\n    error_type rule_ID  \\\n95     GRAMMAR   A_NNS   \n97     GRAMMAR   A_NNS   \n108    GRAMMAR   A_NNS   \n121    GRAMMAR   A_NNS   \n122    GRAMMAR   A_NNS   \n124    GRAMMAR   A_NNS   \n126    GRAMMAR   A_NNS   \n145    GRAMMAR   A_NNS   \n152    GRAMMAR   A_NNS   \n179    GRAMMAR   A_NNS   \n190    GRAMMAR   A_NNS   \n200    GRAMMAR   A_NNS   \n218    GRAMMAR   A_NNS   \n\n                                                                                                                              message  \\\n95   The plural noun “inequalities” cannot be used with the article “a”. Did you mean “a social inequality” or “social inequalities”?   \n97                     The plural noun “activities” cannot be used with the article “an”. Did you mean “an activity” or “activities”?   \n108                              The plural noun “parents” cannot be used with the article “a”. Did you mean “a parent” or “parents”?   \n121          The plural noun “methods” cannot be used with the article “a”. Did you mean “a more used method” or “more used methods”?   \n122    The plural noun “tools” cannot be used with the article “a”. Did you mean “a more convenient tool” or “more convenient tools”?   \n124         The plural noun “managers” cannot be used with the article “a”. Did you mean “a positive manager” or “positive managers”?   \n126    The plural noun “attitudes” cannot be used with the article “a”. Did you mean “a different attitude” or “different attitudes”?   \n145                          The plural noun “hours” cannot be used with the article “a”. Did you mean “a long hour” or “long hours”?   \n152                             The plural noun “children” cannot be used with the article “a”. Did you mean “a child” or “children”?   \n179                                    The plural noun “years” cannot be used with the article “a”. Did you mean “a year” or “years”?   \n190                                    The plural noun “years” cannot be used with the article “a”. Did you mean “a year” or “years”?   \n200                     The plural noun “newspapers” cannot be used with the article “a”. Did you mean “a newspaper” or “newspapers”?   \n218                                 The plural noun “trends” cannot be used with the article “a”. Did you mean “a trend” or “trends”?   \n\n                                         replacement  \n95        [a social inequality, social inequalities]  \n97                         [an activity, activities]  \n108                              [a parent, parents]  \n121          [a more used method, more used methods]  \n122  [a more convenient tool, more convenient tools]  \n124          [a positive manager, positive managers]  \n126      [a different attitude, different attitudes]  \n145                        [a long hour, long hours]  \n152                              [a child, children]  \n179                                  [a year, years]  \n190                                  [a year, years]  \n200                        [a newspaper, newspapers]  \n218                                [a trend, trends]  \n"
     ]
    }
   ],
   "source": [
    "#convert to dataframe\n",
    "error_df = pd.DataFrame.from_dict(data_for_df)\n",
    "pd.options.display.max_colwidth = 200\n",
    "\n",
    "print(error_df.columns)\n",
    "\n",
    "error_df.sort_values(by=\"error_type\", axis=0, inplace=True)\n",
    "error_df.reset_index(inplace=True)\n",
    "\n",
    "grammar_errors = error_df[error_df[\"error_type\"] == \"GRAMMAR\"]\n",
    "print(grammar_errors[grammar_errors[\"rule_ID\"] == \"A_NNS\"])\n",
    "\n",
    "\n"
   ]
  },
  {
   "cell_type": "code",
   "execution_count": null,
   "metadata": {},
   "outputs": [],
   "source": [
    "#export to excel\n",
    "#error_df.to_excel(\"errors.xlsx\", sheet_name=\"Errors_EX2\")\n"
   ]
  }
 ]
}