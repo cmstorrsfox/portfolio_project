{
 "metadata": {
  "language_info": {
   "codemirror_mode": {
    "name": "ipython",
    "version": 3
   },
   "file_extension": ".py",
   "mimetype": "text/x-python",
   "name": "python",
   "nbconvert_exporter": "python",
   "pygments_lexer": "ipython3",
   "version": "3.7.3-final"
  },
  "orig_nbformat": 2,
  "kernelspec": {
   "name": "python3",
   "display_name": "Python 3.7.3 64-bit",
   "metadata": {
    "interpreter": {
     "hash": "0600588c3b5f4418cbe7b5ebc6825b479f3bc010269d8b60d75058cdd010adfe"
    }
   }
  }
 },
 "nbformat": 4,
 "nbformat_minor": 2,
 "cells": [
  {
   "cell_type": "code",
   "execution_count": 79,
   "metadata": {},
   "outputs": [],
   "source": [
    "import language_tool_python\n",
    "import pandas as pd\n",
    "from tika import parser\n",
    "import os\n",
    "import re\n",
    "\n",
    "\n",
    "tool = language_tool_python.LanguageTool('en-GB')"
   ]
  },
  {
   "cell_type": "code",
   "execution_count": 80,
   "metadata": {},
   "outputs": [],
   "source": [
    "#get all paths into list\n",
    "\n",
    "paths = []\n",
    "\n",
    "d = r\"C:\\Users\\storr\\Documents\\0_coding\\NLP\\ex2_iy1\"\n",
    "for path in os.listdir(d):\n",
    "    full_path = os.path.join(d, path)\n",
    "    if os.path.isfile(full_path):\n",
    "        paths.append(full_path)\n",
    "\n"
   ]
  },
  {
   "cell_type": "code",
   "execution_count": 81,
   "metadata": {},
   "outputs": [],
   "source": [
    "#get text from all docs\n",
    "all_texts = []\n",
    "\n",
    "for path in paths:\n",
    "    raw = parser.from_file(path)\n",
    "    text = raw['content']\n",
    "    all_texts.append(text)\n",
    "\n",
    "new_all_texts = []\n",
    "\n",
    "for entry in all_texts:\n",
    "    if entry is None:\n",
    "        pass\n",
    "    else:\n",
    "        re.sub('[^!-~]+', ' ', entry).strip()\n",
    "        entry = entry.strip('\\n')\n",
    "        entry = entry.replace('\\n', ' ')\n",
    "        entry = entry.replace('\\u2003', ' ')\n",
    "        entry = entry.replace(\"[\\']\", \"'\")\n",
    "        new_all_texts.append(entry)\n",
    "\n",
    "text_strings = \" \".join(new_all_texts)\n",
    "\n",
    "#print(text_strings)\n"
   ]
  },
  {
   "cell_type": "code",
   "execution_count": 134,
   "metadata": {},
   "outputs": [
    {
     "output_type": "stream",
     "name": "stdout",
     "text": [
      "35\n"
     ]
    }
   ],
   "source": [
    "# function to find occurences of given words\n",
    "def find_word(string_to_find, string_to_search): \n",
    "    word_or_phrase = re.findall(string_to_find, string_to_search)\n",
    "    if word_or_phrase != []:\n",
    "        return word_or_phrase\n",
    "    else:\n",
    "        pass\n",
    "\n",
    "searched_word = find_word(r\"According to\", text_strings)\n",
    "#gives count of searched word\n",
    "print(len(searched_word))\n",
    "\n",
    "\n",
    "\n"
   ]
  },
  {
   "cell_type": "code",
   "execution_count": null,
   "metadata": {},
   "outputs": [],
   "source": []
  }
 ]
}