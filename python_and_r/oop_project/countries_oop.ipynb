{
 "cells": [
  {
   "cell_type": "code",
   "execution_count": null,
   "metadata": {},
   "outputs": [],
   "source": [
    "#import packages\n",
    "import pandas as pd\n",
    "import numpy as np\n",
    "import matplotlib.pyplot as plt \n",
    "import matplotlib as mpl\n",
    "import seaborn as sns\n",
    "import math"
   ]
  },
  {
   "cell_type": "code",
   "execution_count": null,
   "metadata": {},
   "outputs": [],
   "source": [
    "#import and clean dataset\n",
    "pd.options.display.float_format = '{:,.2f}'.format\n",
    "countries_data = pd.read_csv(\"raw_data/HISTPOP_16102021224139462.csv\")\n",
    "pop_data = countries_data.groupby(by=[\"Country\", \"Time\", \"Sex\", \"Age\"]).sum().reset_index(drop=False)\n",
    "pop_data = pop_data[pop_data.Age.str.contains(pat=\"^\\w{1,2} to \\w{1,4}$|85 and over|^Total$\")]\n",
    "Age_labels = pop_data.Age.unique().tolist()\n",
    "Age_labels.insert(1, Age_labels.pop(11))\n",
    "Age_labels.remove(\"15 to 64\")\n",
    "Age_labels.remove(\"20 to 64\")\n",
    "pop_data = pop_data[pop_data.Age.str.contains(\"|\".join(Age_labels))]\n",
    "pop_data.drop(columns=[\"TIME\", \"Flag Codes\", \"Flags\"], inplace=True)\n",
    "pop_data.rename({\"Time\": \"Year\", \"Value\": \"Population\"}, axis=1, inplace=True)\n",
    "pop_data.sort_values(by=[\"Year\", \"Age\", \"Population\"], inplace=True, ascending=True)\n",
    "pop_data.reset_index(drop=True, inplace=True)\n",
    "\n",
    "pop_data"
   ]
  },
  {
   "cell_type": "code",
   "execution_count": 151,
   "metadata": {},
   "outputs": [
    {
     "data": {
      "image/png": "[encoded data removed]",
      "text/plain": [
       "<Figure size 720x432 with 1 Axes>"
      ]
     },
     "metadata": {
      "needs_background": "light"
     },
     "output_type": "display_data"
    }
   ],
   "source": [
    "#create country class \n",
    "\n",
    "class Country():\n",
    "  \n",
    "  def __init__(self, name):\n",
    "    self.name = name\n",
    "\n",
    "  def country_pop_profile(self):\n",
    "    \"\"\"\n",
    "    Returns a dataframe with population data for the country\n",
    "    \"\"\"\n",
    "    country_data = pop_data[pop_data[\"Country\"] == self.name].reset_index(drop=True)\n",
    "\n",
    "    return country_data\n",
    "  \n",
    "  def chart_pop_growth(self, by_sex=False, as_line=False):\n",
    "    \"\"\"\n",
    "    Plots total population over time, providing an idea of how numbers have changed\n",
    "    Add the argument by_sex=True to see a breakdown by sex\n",
    "    If a line chart is preferred add the argument as_line=True\n",
    "    \"\"\"\n",
    "    fig, ax, = plt.subplots(figsize=(10,6))\n",
    "    data = self.country_pop_profile()\n",
    "    if by_sex == False:\n",
    "      total_pop = data[(data.Sex == \"Total\") & (data.Age == \"Total\")]\n",
    "      min_pop = min(data.Population[(data.Sex == \"Total\") & (data.Age == \"Total\")]) * 0.98\n",
    "      max_pop = max(data.Population[(data.Sex == \"Total\") & (data.Age == \"Total\")]) * 1.02\n",
    "      if as_line == False:\n",
    "        sns.barplot(data=total_pop, x=\"Year\", y=\"Population\", ax=ax, palette='Set2')\n",
    "      else:\n",
    "        sns.lineplot(data=total_pop, x=\"Year\", y=\"Population\", ax=ax)\n",
    "      ax.ticklabel_format(style=\"plain\", axis=\"y\")\n",
    "      ax.set_ylim(min_pop, max_pop)\n",
    "      ax.set_title(f'{self.name} Population over time: 2005 - 2020')\n",
    "      ax.get_yaxis().set_major_formatter(mpl.ticker.StrMethodFormatter('{x:,.0f}'))\n",
    "    elif by_sex == True:\n",
    "      sex_pop = data[(data.Age == \"Total\")]\n",
    "      if as_line == False:\n",
    "        sns.barplot(data=sex_pop, x=\"Year\", y=\"Population\", hue=\"Sex\", ax=ax, palette='bright')\n",
    "      else:\n",
    "        sns.lineplot(data=sex_pop, x=\"Year\", y=\"Population\", hue=\"Sex\", ax=ax)\n",
    "\n",
    "      ax.ticklabel_format(style=\"plain\", axis=\"y\")\n",
    "      ax.set_title(f'{self.name} Population over time by sex: 2005 - 2020')\n",
    "      ax.get_yaxis().set_major_formatter(mpl.ticker.StrMethodFormatter('{x:,.0f}'))\n",
    "    \n",
    "\n",
    "    plt.show()\n",
    "\n",
    "  def chart_pop_by_age(self, years=None, by_sex=False):\n",
    "    \"\"\"\n",
    "    Plots barcharts for populations by age and sex for years 2005 - 2020\n",
    "    If specific years are desired these can be included in a list as an argument (e.g. [2005, 2010, 2020])\n",
    "    If a breakdown by sex is required, add the argument by_sex = True\n",
    "    \"\"\"\n",
    "    data = self.country_pop_profile()\n",
    "\n",
    "    if years != None:\n",
    "      data = data[(data[\"Year\"].isin(years)) & (~data[\"Age\"].str.contains('Total')) & (data[\"Sex\"] != 'Total')]\n",
    "    else:\n",
    "      data = data[(~data[\"Age\"].str.contains('Total')) & (data[\"Sex\"] != 'Total')]\n",
    "    \n",
    "    age_order = data.Age.unique().tolist()\n",
    "    age_order.insert(1, age_order.pop(9))\n",
    "\n",
    "    if by_sex == True:\n",
    "      g = sns.catplot(kind=\"bar\", data=data, x=\"Age\", y=\"Population\", hue=\"Sex\", col=\"Year\", col_wrap=3, height=5, aspect=1, order=age_order, sharex=False, sharey=False, palette=\"bright\", legend=False)\n",
    "      g.fig.suptitle(f\"Population by Age & Sex - {self.name}\", x=0, y=1, fontsize=16)\n",
    "    else:\n",
    "      g = sns.catplot(kind=\"bar\", data=data, x=\"Age\", y=\"Population\", col=\"Year\", col_wrap=3, height=5, aspect=1.2, order=age_order, sharex=False, sharey=False, palette=\"bright\")\n",
    "\n",
    "    g.fig.suptitle(f\"Population by Age - {self.name}\", x=0, y=1, fontsize=16)\n",
    "    g.set_titles(\"Population by Age for {col_name}\")\n",
    "    g.set_xticklabels(labels=age_order, rotation=90, ha='center')\n",
    "    g.fig.tight_layout(pad=1, w_pad=4)\n",
    "\n",
    "    for ax in g.axes:\n",
    "      ax.get_yaxis().set_major_formatter(mpl.ticker.StrMethodFormatter('{x:,.0f}'))\n",
    "      if by_sex == True:\n",
    "        ax.legend()\n",
    "      else:\n",
    "        pass\n",
    "    \n",
    "    plt.show()\n",
    "      \n",
    "  \n",
    "uk = Country(\"United Kingdom\").chart_pop_growth(as_line=False, by_sex=True)\n"
   ]
  },
  {
   "cell_type": "code",
   "execution_count": null,
   "metadata": {},
   "outputs": [],
   "source": [
    "germany = Country(\"Germany\")\n",
    "uk = Country(\"United Kingdom\")\n",
    "usa = Country(\"United States\")\n",
    "\n",
    "usa.chart_pop_by_age()"
   ]
  }
 ],
 "metadata": {
  "interpreter": {
   "hash": "672165424b2176c0518825bbf6ac5cf7557130af1791d59fe75c2bd75f102ae8"
  },
  "kernelspec": {
   "display_name": "Python 3.9.7 64-bit",
   "name": "python3"
  },
  "language_info": {
   "codemirror_mode": {
    "name": "ipython",
    "version": 3
   },
   "file_extension": ".py",
   "mimetype": "text/x-python",
   "name": "python",
   "nbconvert_exporter": "python",
   "pygments_lexer": "ipython3",
   "version": "3.9.7"
  },
  "orig_nbformat": 4
 },
 "nbformat": 4,
 "nbformat_minor": 2
}
