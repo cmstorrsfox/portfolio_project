{
 "cells": [
  {
   "cell_type": "code",
   "execution_count": null,
   "metadata": {},
   "outputs": [],
   "source": [
    "#import packages\n",
    "import pandas as pd\n",
    "import numpy as np\n",
    "import matplotlib.pyplot as plt \n",
    "import seaborn as sns\n",
    "import math"
   ]
  },
  {
   "cell_type": "code",
   "execution_count": null,
   "metadata": {},
   "outputs": [],
   "source": [
    "#import and clean dataset\n",
    "pd.options.display.float_format = '{:,.2f}'.format\n",
    "countries_data = pd.read_csv(\"raw_data/HISTPOP_16102021224139462.csv\")\n",
    "pop_data = countries_data.groupby(by=[\"Country\", \"Time\", \"Sex\", \"Age\"]).sum().reset_index(drop=False)\n",
    "pop_data = pop_data[pop_data.Age.str.contains(pat=\"^\\w{1,2} to \\w{1,4}$|85 and over|^Total$\")]\n",
    "Age_labels = pop_data.Age.unique().tolist()\n",
    "Age_labels.insert(1, Age_labels.pop(11))\n",
    "Age_labels.remove(\"15 to 64\")\n",
    "Age_labels.remove(\"20 to 64\")\n",
    "pop_data = pop_data[pop_data.Age.str.contains(\"|\".join(Age_labels))]\n",
    "pop_data.drop(columns=[\"TIME\", \"Flag Codes\", \"Flags\"], inplace=True)\n",
    "pop_data.rename({\"Time\": \"Year\", \"Value\": \"Population\"}, axis=1, inplace=True)\n",
    "pop_data.sort_values(by=[\"Year\", \"Age\", \"Population\"], inplace=True, ascending=True)\n",
    "pop_data.reset_index(drop=True, inplace=True)\n",
    "\n",
    "pop_data"
   ]
  },
  {
   "cell_type": "code",
   "execution_count": null,
   "metadata": {},
   "outputs": [],
   "source": [
    "#create country class \n",
    "\n",
    "class Country():\n",
    "  \n",
    "  def __init__(self, name):\n",
    "    self.name = name\n",
    "\n",
    "  def country_pop_profile(self):\n",
    "    country_data = pop_data[pop_data[\"Country\"] == self.name].reset_index(drop=True)\n",
    "\n",
    "    return country_data\n",
    "  \n",
    "  def chart_pop_growth(self, by_sex=False):\n",
    "    fig, ax, = plt.subplots(figsize=(16,10))\n",
    "    data = self.country_pop_profile()\n",
    "    if by_sex == False:\n",
    "      total_pop = data[(data.Sex == \"Total\") & (data.Age == \"Total\")]\n",
    "      min_pop = min(data.Population[(data.Sex == \"Total\") & (data.Age == \"Total\")]) - 1000000\n",
    "      max_pop = max(data.Population[(data.Sex == \"Total\") & (data.Age == \"Total\")]) + 1000000\n",
    "      sns.barplot(data=total_pop, x=\"Year\", y=\"Population\", ax=ax)\n",
    "      ax.ticklabel_format(style=\"plain\", axis=\"y\")\n",
    "      ax.set_ylim(min_pop, max_pop)\n",
    "      ax.set_title(f'{self.name} Population over time: 2005 - 2020')\n",
    "    elif by_sex == True:\n",
    "      sex_pop = data[data.Age == \"Total\"]\n",
    "      sns.barplot(data=sex_pop, x=\"Year\", y=\"Population\", hue=\"Sex\", ax=ax)\n",
    "      ax.ticklabel_format(style=\"plain\", axis=\"y\")\n",
    "      ax.set_title(f'{self.name} Population over time by sex: 2005 - 2020')\n",
    "    \n",
    "\n",
    "    plt.show()\n",
    "\n",
    "  def chart_pop_by_age(self):\n",
    "    data = self.country_pop_profile()\n",
    "    years = data.Year.unique()\n",
    "\n",
    "    fig, axs = plt.subplots(4, 4, figsize=(30,20))\n",
    "    age_order = data.Age.unique().tolist()\n",
    "    age_order.insert(1, age_order.pop(9))\n",
    "    age_order.remove(\"Total\")\n",
    "    fig.suptitle(f\"Population data for {self.name}\", fontsize=16)\n",
    "\n",
    "    for i, ax in enumerate(fig.axes):\n",
    "      yr_data = data[(data[\"Year\"] == years[i]) & (data[\"Sex\"] == \"Total\") & (data[\"Age\"] != \"Total\")]\n",
    "      sns.barplot(data=yr_data, x=\"Age\", y=\"Population\", ax=ax, order=age_order)\n",
    "      ax.set_title(f\"Population for {years[i]} by age category\")\n",
    "      ax.set_xticklabels(labels=age_order, rotation=90)\n",
    "      ax.ticklabel_format(style=\"plain\", axis=\"y\")\n",
    "\n",
    "    plt.tight_layout(pad=4)\n",
    "    plt.show()\n",
    "      \n",
    "  \n",
    "uk = Country(\"United Kingdom\").country_pop_profile()\n",
    "print(uk.head())\n",
    "sns.catplot(kind=\"bar\", data=uk, x=\"Year\", y=\"Population\", col=\"Age\", col_wrap=5)\n",
    "plt.show()\n",
    "\n"
   ]
  },
  {
   "cell_type": "code",
   "execution_count": null,
   "metadata": {},
   "outputs": [],
   "source": [
    "germany = Country(\"Germany\")\n",
    "uk = Country(\"United Kingdom\")\n",
    "usa = Country(\"United States\")\n",
    "\n",
    "usa.chart_pop_by_age()"
   ]
  }
 ],
 "metadata": {
  "interpreter": {
   "hash": "672165424b2176c0518825bbf6ac5cf7557130af1791d59fe75c2bd75f102ae8"
  },
  "kernelspec": {
   "display_name": "Python 3.9.2 64-bit",
   "name": "python3"
  },
  "language_info": {
   "codemirror_mode": {
    "name": "ipython",
    "version": 3
   },
   "file_extension": ".py",
   "mimetype": "text/x-python",
   "name": "python",
   "nbconvert_exporter": "python",
   "pygments_lexer": "ipython3",
   "version": "3.9.2"
  },
  "orig_nbformat": 4
 },
 "nbformat": 4,
 "nbformat_minor": 2
}
