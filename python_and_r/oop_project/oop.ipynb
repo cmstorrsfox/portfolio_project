{
 "cells": [
  {
   "cell_type": "code",
   "execution_count": 1,
   "metadata": {},
   "outputs": [],
   "source": [
    "#import packages\n",
    "import matplotlib.pyplot as plt\n",
    "import seaborn as sns"
   ]
  },
  {
   "cell_type": "code",
   "execution_count": 6,
   "metadata": {},
   "outputs": [],
   "source": [
    "#define student class\n",
    "\n",
    "class Student:\n",
    "  def __init__(self, name, cohort, reg_group, aes_class):\n",
    "    \n",
    "    self.name = name\n",
    "    self.cohort = cohort\n",
    "    self.reg_group = reg_group\n",
    "    self.aes_class = aes_class\n",
    "    self.grades = {\n",
    "      \"listening\": '',\n",
    "      \"reading\": '',\n",
    "      \"writing\": '',\n",
    "      \"speaking\": '',\n",
    "      \"overall\": ''\n",
    "    }\n",
    "\n",
    "    self.flags = []\n",
    "\n",
    "  def __repr__(self):\n",
    "    return \"\"\"\n",
    "      Student Information:\n",
    "      Name: {name}\n",
    "      Cohort: {cohort}\n",
    "      Pathway: {reg_group}\n",
    "      AES Class: {aes_class}\n",
    "      Grades: \n",
    "        Listening: {listening}\n",
    "        Reading: {reading}\n",
    "        Writing: {writing}\n",
    "        Speaking: {speaking}\n",
    "        Overall: {overall}\n",
    "      Flags: \n",
    "        {flags}\n",
    "      \"\"\".format(name=self.name, cohort=self.cohort, reg_group=self.reg_group, aes_class=self.aes_class, listening=self.grades['listening'], reading=self.grades['reading'], writing=self.grades['writing'], speaking=self.grades['speaking'], overall=self.grades['overall'], flags= \"\\n\\t\".join(self.flags))\n",
    "  \n",
    "  def manage_grades(self, listening, reading, writing, speaking):\n",
    "    self.grades.update({\n",
    "      \"listening\": listening,\n",
    "      \"reading\": reading,\n",
    "      \"writing\": writing,\n",
    "      \"speaking\": speaking,\n",
    "      \"overall\": (listening + reading + writing + speaking) / 4\n",
    "    })\n",
    "  \n",
    "  def flag_student(self, *issues):\n",
    "    for flag in issues:\n",
    "      if flag not in self.flags:\n",
    "        self.flags.append(flag)\n",
    "      else:\n",
    "        print(f\"{self.name} has already been flagged for {flag}\")\n",
    "  \n",
    "  def remove_flag(self, *flags_to_remove):\n",
    "    for flag in flags_to_remove:\n",
    "      try:\n",
    "        self.flags.remove(flag)\n",
    "      except:\n",
    "        print(f\"{self.name} does not have a flag called {flag}\")\n",
    "    \n",
    "    \n"
   ]
  },
  {
   "cell_type": "code",
   "execution_count": 7,
   "metadata": {},
   "outputs": [],
   "source": [
    "#create students\n",
    "ngoc_nguyen = Student(\"Ngoc Nguyen\", \"IFY\", \"SFAS\", \"SF01_AES\")\n",
    "\n",
    "hieu_storrs_fox = Student(\"Hieu Storrs-Fox\", \"IFY\", \"SFMEA\", \"SF02_AES\")\n",
    "\n",
    "khoa_storrs_fox = Student(\"Khoa Storrs-Fox\", \"IFY\", \"SFSCA\", \"SF02_AES\")\n",
    "\n",
    "student_list = [ngoc_nguyen, hieu_storrs_fox, khoa_storrs_fox]\n"
   ]
  },
  {
   "cell_type": "code",
   "execution_count": 11,
   "metadata": {},
   "outputs": [
    {
     "name": "stdout",
     "output_type": "stream",
     "text": [
      "Ngoc Nguyen has already been flagged for behaviour\n",
      "Ngoc Nguyen has already been flagged for aggression\n",
      "Hieu Storrs-Fox has already been flagged for lack of sleep ability\n",
      "Hieu Storrs-Fox has already been flagged for general naughtiness\n",
      "\n",
      "      Student Information:\n",
      "      Name: Ngoc Nguyen\n",
      "      Cohort: IFY\n",
      "      Pathway: SFAS\n",
      "      AES Class: SF01_AES\n",
      "      Grades: \n",
      "        Listening: 76\n",
      "        Reading: 56\n",
      "        Writing: 89\n",
      "        Speaking: 90\n",
      "        Overall: 77.75\n",
      "      Flags: \n",
      "        aggression\n",
      "\tbehaviour\n",
      "      \n"
     ]
    }
   ],
   "source": [
    "#add info to classes\n",
    "ngoc_nguyen.manage_grades(76,56,89,90)\n",
    "ngoc_nguyen.flag_student(\"behaviour\", 'aggression')\n",
    "hieu_storrs_fox.manage_grades(98,56,78,76)\n",
    "hieu_storrs_fox.flag_student('lack of sleep ability', 'general naughtiness')\n",
    "\n",
    "khoa_storrs_fox.manage_grades(87,56,76,76)\n"
   ]
  }
 ],
 "metadata": {
  "interpreter": {
   "hash": "672165424b2176c0518825bbf6ac5cf7557130af1791d59fe75c2bd75f102ae8"
  },
  "kernelspec": {
   "display_name": "Python 3.9.7 64-bit",
   "name": "python3"
  },
  "language_info": {
   "codemirror_mode": {
    "name": "ipython",
    "version": 3
   },
   "file_extension": ".py",
   "mimetype": "text/x-python",
   "name": "python",
   "nbconvert_exporter": "python",
   "pygments_lexer": "ipython3",
   "version": "3.9.7"
  },
  "orig_nbformat": 4
 },
 "nbformat": 4,
 "nbformat_minor": 2
}
