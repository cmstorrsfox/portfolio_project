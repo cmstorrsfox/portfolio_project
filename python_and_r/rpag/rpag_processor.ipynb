{
 "cells": [
  {
   "cell_type": "code",
   "execution_count": null,
   "source": [
    "#import packages\r\n",
    "import pandas as pd\r\n",
    "import numpy as np"
   ],
   "outputs": [],
   "metadata": {}
  },
  {
   "cell_type": "code",
   "execution_count": null,
   "source": [
    "#get RPAG data from csv\r\n",
    "\r\n",
    "def get_subject_data(subject):\r\n",
    "  df = pd.read_csv('rpag.csv')\r\n",
    "\r\n",
    "  df = df[[df.columns[0], df.columns[1], df.columns[3], df.columns[17], df.columns[18], df.columns[20]]].reset_index(drop=True)\r\n",
    "\r\n",
    "  df.rename({df.columns[0]: \"Student ID\", df.columns[1]: \"Full Name\", df.columns[2]: \"Pathway\", df.columns[3]: \"RPAG Period\", df.columns[4]: \"Subject\", df.columns[5]: \"Rating\"}, axis=1, inplace=True)\r\n",
    "\r\n",
    "  df = df[df[\"Subject\"] == subject]\r\n",
    "\r\n",
    "  \r\n",
    "  df = df.pivot(index=[\"Student ID\", \"Full Name\", \"Pathway\"], columns=\"RPAG Period\", values=\"Rating\")\r\n",
    "  \r\n",
    "  df.to_excel(\"RPAG information for {}.xlsx\".format(subject))\r\n",
    "\r\n",
    "  return df\r\n",
    "\r\n",
    "\r\n",
    "get_subject_data(\"Academic English Skills\")\r\n",
    "\r\n"
   ],
   "outputs": [],
   "metadata": {}
  },
  {
   "cell_type": "code",
   "execution_count": null,
   "source": [
    "#get attendance data from csv\r\n",
    "def get_attendance_by_subject(subject):\r\n",
    "  df = pd.read_csv(\"attendance.csv\")\r\n",
    "\r\n",
    "  df = df[[df.columns[1], df.columns[0], \"Subject\", df.columns[39]]]\r\n",
    "\r\n",
    "  df.rename({df.columns[0]: \"Student ID\", df.columns[1]: \"Full Name\", df.columns[3]: \"Attendance\"}, axis=1, inplace=True)\r\n",
    "\r\n",
    "  def fix_name(row):\r\n",
    "    names = row.split(',')\r\n",
    "    full_name = \"{} {}\".format(names[1], names[0])\r\n",
    "    return full_name\r\n",
    "  \r\n",
    "  df[\"Full Name\"] = df[\"Full Name\"].apply(fix_name)\r\n",
    "\r\n",
    "  df.dropna(how=\"any\", axis=0, inplace=True)\r\n",
    "\r\n",
    "  df = df[df[\"Subject\"] == subject].reset_index(drop=True)\r\n",
    "\r\n",
    "  df.to_excel(\"Attendance information for {}.xlsx\".format(subject), index=False)\r\n",
    "\r\n",
    "  return df\r\n",
    "\r\n",
    "get_attendance_by_subject(\"Academic English Skills\")"
   ],
   "outputs": [],
   "metadata": {}
  }
 ],
 "metadata": {
  "orig_nbformat": 4,
  "language_info": {
   "name": "python",
   "version": "3.9.2",
   "mimetype": "text/x-python",
   "codemirror_mode": {
    "name": "ipython",
    "version": 3
   },
   "pygments_lexer": "ipython3",
   "nbconvert_exporter": "python",
   "file_extension": ".py"
  },
  "kernelspec": {
   "name": "python3",
   "display_name": "Python 3.9.2 64-bit"
  },
  "interpreter": {
   "hash": "672165424b2176c0518825bbf6ac5cf7557130af1791d59fe75c2bd75f102ae8"
  }
 },
 "nbformat": 4,
 "nbformat_minor": 2
}