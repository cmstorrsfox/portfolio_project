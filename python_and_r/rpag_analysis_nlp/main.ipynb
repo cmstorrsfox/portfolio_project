{
 "cells": [
  {
   "cell_type": "code",
   "execution_count": 19,
   "metadata": {},
   "outputs": [],
   "source": [
    "#import the packages needed\n",
    "from src.bow import comments_vectors, labels, bow_vectorizer\n",
    "from sklearn.naive_bayes import MultinomialNB\n",
    "from sklearn.model_selection import train_test_split\n",
    "import warnings\n",
    "warnings.filterwarnings(\"ignore\")\n"
   ]
  },
  {
   "cell_type": "code",
   "execution_count": 20,
   "metadata": {},
   "outputs": [],
   "source": [
    "#sample comments\n",
    "green = \"Chen is a truly excellent student. He always completes tasks to a high level and never misses class.\"\n",
    "amber = \"Chen generally performs well in class, but at times can be distracted. He could improve his writing.\"\n",
    "pink = \"I am concerned about Alan's performance on the course so far He is easily distracted and produces low quality work.\"\n",
    "red = \"Very weak. Will fail\"\n",
    "\n",
    "#sample comment vectors\n",
    "vectors = bow_vectorizer.transform([green, amber, pink, red])"
   ]
  },
  {
   "cell_type": "code",
   "execution_count": 21,
   "metadata": {},
   "outputs": [
    {
     "name": "stdout",
     "output_type": "stream",
     "text": [
      "['green' 'amber' 'pink' 'pink']\n",
      "0.6646403242147924\n"
     ]
    }
   ],
   "source": [
    "#Multinomial NB Classifier\n",
    "#create training and testng sets\n",
    "X_train, X_test, y_train, y_test = train_test_split(comments_vectors, labels, test_size=0.2, random_state=0)\n",
    "\n",
    "# Classify using Multinomial NB\n",
    "mb_classifier = MultinomialNB()\n",
    "\n",
    "#fit model with training set\n",
    "mb_classifier.fit(X_train, y_train)\n",
    "\n",
    "predictions = mb_classifier.predict(vectors)\n",
    "\n",
    "print(predictions)\n",
    "\n",
    "print(mb_classifier.score(X_test, y_test))"
   ]
  }
 ],
 "metadata": {
  "interpreter": {
   "hash": "672165424b2176c0518825bbf6ac5cf7557130af1791d59fe75c2bd75f102ae8"
  },
  "kernelspec": {
   "display_name": "Python 3.9.2 64-bit",
   "name": "python3"
  },
  "language_info": {
   "codemirror_mode": {
    "name": "ipython",
    "version": 3
   },
   "file_extension": ".py",
   "mimetype": "text/x-python",
   "name": "python",
   "nbconvert_exporter": "python",
   "pygments_lexer": "ipython3",
   "version": "3.9.2"
  },
  "orig_nbformat": 4
 },
 "nbformat": 4,
 "nbformat_minor": 2
}
