{
 "cells": [
  {
   "cell_type": "code",
   "execution_count": 1,
   "metadata": {},
   "outputs": [],
   "source": [
    "from list_of_words import word_list\n",
    "import pandas as pd\n",
    "import matplotlib.pyplot as plt\n",
    "import seaborn as sns\n"
   ]
  },
  {
   "cell_type": "code",
   "execution_count": 2,
   "metadata": {},
   "outputs": [
    {
     "name": "stdout",
     "output_type": "stream",
     "text": [
      "{'e': 1230, 'a': 975, 'r': 897, 'o': 753, 't': 729, 'l': 716, 'i': 670, 's': 668, 'n': 573, 'c': 475, 'u': 466, 'y': 424, 'd': 393, 'h': 387, 'p': 365, 'm': 316, 'g': 310, 'b': 280, 'f': 229, 'k': 210, 'w': 194, 'v': 152, 'z': 40, 'x': 37, 'q': 29, 'j': 27}\n"
     ]
    }
   ],
   "source": [
    "#check each word and count frequency of letters\n",
    "\n",
    "letter_freq_dict = {}\n",
    "\n",
    "for word in word_list:\n",
    "  for letter in word:\n",
    "    if letter not in letter_freq_dict.keys():\n",
    "      letter_freq_dict.update({letter: 1})\n",
    "    else:\n",
    "      letter_freq_dict[letter] +=1\n",
    "\n",
    "\n",
    "sorted_frequency = dict(sorted(letter_freq_dict.items(), key=lambda item: item[1], reverse=True))\n",
    "\n",
    "print(sorted_frequency)\n"
   ]
  },
  {
   "cell_type": "code",
   "execution_count": 3,
   "metadata": {},
   "outputs": [
    {
     "name": "stdout",
     "output_type": "stream",
     "text": [
      "{'a': {'first': 140, 'second': 304, 'third': 306, 'fourth': 162, 'fifth': 63}, 'b': {'first': 173, 'second': 16, 'third': 56, 'fourth': 24, 'fifth': 11}, 'c': {'first': 198, 'second': 40, 'third': 56, 'fourth': 150, 'fifth': 31}, 'd': {'first': 111, 'second': 20, 'third': 75, 'fourth': 69, 'fifth': 118}, 'e': {'first': 72, 'second': 241, 'third': 177, 'fourth': 318, 'fifth': 422}, 'f': {'first': 135, 'second': 8, 'third': 25, 'fourth': 35, 'fifth': 26}, 'g': {'first': 115, 'second': 11, 'third': 67, 'fourth': 76, 'fifth': 41}, 'h': {'first': 69, 'second': 144, 'third': 9, 'fourth': 28, 'fifth': 137}, 'i': {'first': 34, 'second': 201, 'third': 266, 'fourth': 158, 'fifth': 11}, 'j': {'first': 20, 'second': 2, 'third': 3, 'fourth': 2, 'fifth': 0}, 'k': {'first': 20, 'second': 10, 'third': 12, 'fourth': 55, 'fifth': 113}, 'l': {'first': 87, 'second': 200, 'third': 112, 'fourth': 162, 'fifth': 155}, 'm': {'first': 107, 'second': 38, 'third': 61, 'fourth': 68, 'fifth': 42}, 'n': {'first': 37, 'second': 87, 'third': 137, 'fourth': 182, 'fifth': 130}, 'o': {'first': 41, 'second': 279, 'third': 243, 'fourth': 132, 'fifth': 58}, 'p': {'first': 141, 'second': 61, 'third': 57, 'fourth': 50, 'fifth': 56}, 'q': {'first': 23, 'second': 5, 'third': 1, 'fourth': 0, 'fifth': 0}, 'r': {'first': 105, 'second': 267, 'third': 163, 'fourth': 150, 'fifth': 212}, 's': {'first': 365, 'second': 16, 'third': 80, 'fourth': 171, 'fifth': 36}, 't': {'first': 149, 'second': 77, 'third': 111, 'fourth': 139, 'fifth': 253}, 'u': {'first': 33, 'second': 185, 'third': 165, 'fourth': 82, 'fifth': 1}, 'v': {'first': 43, 'second': 15, 'third': 49, 'fourth': 45, 'fifth': 0}, 'w': {'first': 82, 'second': 44, 'third': 26, 'fourth': 25, 'fifth': 17}, 'x': {'first': 0, 'second': 14, 'third': 12, 'fourth': 3, 'fifth': 8}, 'y': {'first': 6, 'second': 22, 'third': 29, 'fourth': 3, 'fifth': 364}, 'z': {'first': 3, 'second': 2, 'third': 11, 'fourth': 20, 'fifth': 4}}\n"
     ]
    }
   ],
   "source": [
    "#check letter position frequency\n",
    "\n",
    "example = {\"a\": {\"first\": 0, \"second\": 0, \"third\": 0, \"fourth\": 0, \"fifth\": 0}, \"b\": {}}\n",
    "\n",
    "\n",
    "letter_pos_dict = {}\n",
    "\n",
    "for word in word_list:\n",
    "  #check if first letter is in dictionary keys and create entry if not\n",
    "  if word[0] not in letter_pos_dict.keys():\n",
    "    letter_pos_dict.update({word[0]: {\"first\": 1, \"second\": 0, \"third\": 0, \"fourth\": 0, \"fifth\": 0}})\n",
    "  else:\n",
    "    letter_pos_dict[word[0]]['first'] +=1\n",
    "    #check if second letter is in dictionary keys and create entry if not\n",
    "  if word[1] not in letter_pos_dict.keys():\n",
    "    letter_pos_dict.update({word[1]: {\"first\": 0, \"second\": 1, \"third\": 0, \"fourth\": 0, \"fifth\": 0}})\n",
    "  else:\n",
    "    letter_pos_dict[word[1]]['second'] +=1\n",
    "      #check if third letter is in dictionary keys and create entry if not\n",
    "  if word[2] not in letter_pos_dict.keys():\n",
    "    letter_pos_dict.update({word[2]: {\"first\": 0, \"second\": 0, \"third\": 1, \"fourth\": 0, \"fifth\": 0}})\n",
    "  else:\n",
    "    letter_pos_dict[word[2]]['third'] +=1\n",
    "      #check if fourth letter is in dictionary keys and create entry if not\n",
    "  if word[3] not in letter_pos_dict.keys():\n",
    "    letter_pos_dict.update({word[3]: {\"first\": 0, \"second\": 0, \"third\": 0, \"fourth\": 1, \"fifth\": 0}})\n",
    "  else:\n",
    "    letter_pos_dict[word[3]]['fourth'] +=1\n",
    "      #check if fifth letter is in dictionary keys and create entry if not\n",
    "  if word[4] not in letter_pos_dict.keys():\n",
    "    letter_pos_dict.update({word[4]: {\"first\": 0, \"second\": 0, \"third\": 0, \"fourth\": 0, \"fifth\": 1}})\n",
    "  else:\n",
    "    letter_pos_dict[word[4]]['fifth'] +=1\n",
    "\n",
    "\n",
    "sorted_pos = dict(sorted(letter_pos_dict.items(), key=lambda item: item[0], reverse=False))\n",
    "\n",
    "print(sorted_pos)"
   ]
  },
  {
   "cell_type": "code",
   "execution_count": 43,
   "metadata": {},
   "outputs": [
    {
     "name": "stdout",
     "output_type": "stream",
     "text": [
      "2309\n",
      "747\n",
      "32.35\n",
      "67.65\n",
      "100.0\n",
      "100.0\n"
     ]
    }
   ],
   "source": [
    "#check if word has letter more than once\n",
    "print(len(word_list))\n",
    "\n",
    "repeated = []\n",
    "\n",
    "for word in word_list:\n",
    "  for letter in word:\n",
    "    if word.count(letter) > 1 and word not in repeated:\n",
    "      repeated.append(word)\n",
    "    else:\n",
    "      pass\n",
    "\n",
    "print(len(repeated))\n",
    "\n",
    "pct_repeated = round(len(repeated) / len(word_list) * 100, 2)\n",
    "pct_not_repeated = round((len(word_list) - len(repeated)) / len(word_list) * 100, 2)\n",
    "\n",
    "print(pct_repeated)\n",
    "print(pct_not_repeated)\n",
    "\n",
    "print(pct_repeated + pct_not_repeated)\n"
   ]
  },
  {
   "cell_type": "code",
   "execution_count": 7,
   "metadata": {},
   "outputs": [],
   "source": [
    "#make dataframes for export\n",
    "\n",
    "#frequency data\n",
    "df_pos_freq = pd.DataFrame(sorted_pos).T.reset_index()\n",
    "\n",
    "df_pos_freq.rename({\"index\": \"letter\"}, inplace=True, axis=1)\n",
    "\n",
    "#commonality data\n",
    "df_freq_letter = pd.DataFrame.from_dict(sorted_frequency, orient=\"index\", columns=[\"frequency\"]).reset_index()\n",
    "\n",
    "df_freq_letter.rename({\"index\": \"letter\"}, inplace=True, axis=1)\n",
    "\n",
    "writer = pd.ExcelWriter(path=\"Wordle Analysis.xlsx\", engine=\"xlsxwriter\")\n",
    "\n",
    "df_freq_letter.to_excel(writer, sheet_name=\"frequency data\", index=False)\n",
    "df_pos_freq.to_excel(writer, sheet_name=\"position data by letter\", index=False)\n",
    "\n",
    "workbook = writer.book\n",
    "sheet1 = writer.sheets[\"frequency data\"]\n",
    "sheet2 = writer.sheets[\"position data by letter\"]\n",
    "\n",
    "def add_tables(df, sheetname):\n",
    "  column_settings = [{\"header\": column} for column in df.columns]\n",
    "\n",
    "  (max_row, max_col) = df.shape\n",
    "\n",
    "  sheetname.add_table(0,0, max_row, max_col - 1, {'columns': column_settings})\n",
    "\n",
    "add_tables(df_freq_letter, sheet1)\n",
    "add_tables(df_pos_freq, sheet2)\n",
    "\n",
    "writer.save()\n",
    "\n"
   ]
  }
 ],
 "metadata": {
  "interpreter": {
   "hash": "f1dcb9e70e98fc81ae008d00afb971cbbd47d5ec66c2a36b88407f2facdbd13b"
  },
  "kernelspec": {
   "display_name": "Python 3.10.3 64-bit",
   "language": "python",
   "name": "python3"
  },
  "language_info": {
   "codemirror_mode": {
    "name": "ipython",
    "version": 3
   },
   "file_extension": ".py",
   "mimetype": "text/x-python",
   "name": "python",
   "nbconvert_exporter": "python",
   "pygments_lexer": "ipython3",
   "version": "3.10.3"
  },
  "orig_nbformat": 4
 },
 "nbformat": 4,
 "nbformat_minor": 2
}
